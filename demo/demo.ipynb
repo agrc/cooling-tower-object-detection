{
 "cells": [
  {
   "cell_type": "markdown",
   "id": "70e66fc2",
   "metadata": {},
   "source": [
    "# TowerScout Demo Notebook\n",
    "\n",
    "This notebook contains a basic script to stand up and run the pre-trained TowerScout model on a small sample of aerial images.  [TowerScout](https://groups.ischool.berkeley.edu/TowerScout/) was developed by a group a UC Berkeley to detect cooling towers from aerial imagery to assist public health officials with Legionella investigations and preparedness.  The original [TowerScout GitHub repository](https://github.com/TowerScout/TowerScout) can be referenced for more information about the project and their model training process.\n",
    "\n",
    "## Getting Started\n",
    "### Prerequisites\n",
    "\n",
    "This demo uses python and a Jupyter notebook. It is recommended to use Python 3.7 or greater. Visit [python.org](https://www.python.org/downloads/) and [jupyter.org](https://jupyter.org/install) for installation instructions.\n",
    "\n",
    "_PyTorch has great instructions on how to [get started](https://pytorch.org/get-started/locally/) with these fundamental prerequisites._\n",
    "\n",
    "Create a python virtual environment with conda or venv.\n",
    "\n",
    "conda:\n",
    "\n",
    "  1. `conda create --name demo python=3.7`\n",
    "  1. `activate demo`\n",
    "\n",
    "venv:\n",
    "\n",
    "  1. `python -m venv .env`\n",
    "  1. `source ./env/bin/activate`\n",
    "\n",
    "PyTorch must be installed before this notebook can be run. Visit [pytorch.org](https://pytorch.org/get-started/locally/) for instructions.\n",
    "\n",
    "For initial testing, UGRC used a CPU-only install with conda on windows.\n",
    "\n",
    "- `conda install pytorch torchvision cpuonly -c pytorch`\n",
    "\n",
    "And a pip install on MacOS\n",
    "\n",
    "1. `pip install torch torchvision`\n",
    "\n",
    "YOLOv5 need to be installed for the TowerScout weights to be applied. Quick start instructions for YOLOv5 can be found on [GitHub](https://github.com/ultralytics/yolov5)\n",
    "\n",
    "1. `git clone https://github.com/ultralytics/yolov5`\n",
    "2. `cd yolov5`\n",
    "3. `pip install -r requirements.txt`\n",
    "\n",
    "The sample images should be tiled to an appropriate tile size for processing by YOLOv5 (UGRC used 512x512 pixel tiles)."
   ]
  },
  {
   "cell_type": "code",
   "execution_count": 1,
   "id": "7b97f82e",
   "metadata": {},
   "outputs": [],
   "source": [
    "# Import python libraries\n",
    "from pathlib import Path\n",
    "from time import perf_counter\n",
    "import torch"
   ]
  },
  {
   "cell_type": "markdown",
   "id": "9d1e3dc0",
   "metadata": {},
   "source": [
    "### Load TowerScout"
   ]
  },
  {
   "cell_type": "code",
   "execution_count": 3,
   "id": "e17f85b3",
   "metadata": {},
   "outputs": [
    {
     "name": "stderr",
     "output_type": "stream",
     "text": [
      "YOLOv5  2022-6-8 Python-3.7.11 torch-1.10.2 CPU\n",
      "\n",
      "Fusing layers... \n",
      "Model summary: 476 layers, 87198694 parameters, 0 gradients\n",
      "Adding AutoShape... \n"
     ]
    }
   ],
   "source": [
    "current_path = Path().resolve()\n",
    "\n",
    "# Set up path to the yolov5 directory and local repo\n",
    "yolov5_src_path = current_path / 'yolov5'\n",
    "\n",
    "# Set up path to model weights file and load the TowerScout model\n",
    "towerscout_weights_path = current_path / 'tower_scout' / 'xl_250_best.pt'\n",
    "\n",
    "model = torch.hub.load(str(yolov5_src_path), 'custom', path=str(towerscout_weights_path), source='local')"
   ]
  },
  {
   "cell_type": "markdown",
   "id": "ce5f19f8",
   "metadata": {},
   "source": [
    "### Run TowerScout\n",
    "If more than 100 images are in the tile directory, you may need to break the images into batches of 100 images to avoid a memory allocation error.  Results will be saved in the `\\runs\\detect\\exp` directory."
   ]
  },
  {
   "cell_type": "code",
   "execution_count": 4,
   "id": "984cc811",
   "metadata": {
    "scrolled": true
   },
   "outputs": [
    {
     "name": "stdout",
     "output_type": "stream",
     "text": [
      "Time elapsed (19 images): 56.14s\n",
      "image 1/19: 512x512 (no detections)\n",
      "image 2/19: 512x512 1 ct\n",
      "image 3/19: 512x512 3 cts\n",
      "image 4/19: 512x512 2 cts\n",
      "image 5/19: 512x512 1 ct\n",
      "image 6/19: 512x512 4 cts\n",
      "image 7/19: 512x512 5 cts\n",
      "image 8/19: 512x512 1 ct\n",
      "image 9/19: 512x512 1 ct\n",
      "image 10/19: 512x512 1 ct\n",
      "image 11/19: 512x512 1 ct\n",
      "image 12/19: 512x512 1 ct\n",
      "image 13/19: 512x512 3 cts\n",
      "image 14/19: 512x512 1 ct\n",
      "image 15/19: 512x512 1 ct\n",
      "image 16/19: 512x512 2 cts\n",
      "image 17/19: 512x512 1 ct\n",
      "image 18/19: 512x512 2 cts\n",
      "image 19/19: 512x512 1 ct\n",
      "Speed: 12.6ms pre-process, 2940.7ms inference, 0.7ms NMS per image at shape (19, 3, 640, 640)\n"
     ]
    },
    {
     "name": "stderr",
     "output_type": "stream",
     "text": [
      "Saved 19 images to \u001b[1mruns\\detect\\exp6\u001b[0m\n"
     ]
    },
    {
     "name": "stdout",
     "output_type": "stream",
     "text": [
      "Total time elapsed (19 images): 56.36s\n"
     ]
    }
   ],
   "source": [
    "# Set location of image tiles and cd into that directory\n",
    "tile_folder = current_path / 'image_tiles'\n",
    "\n",
    "# Build list of images in tile directory\n",
    "images = list(tile_folder.glob('**/*.jpg'))\n",
    "\n",
    "image_count = len(images)\n",
    "start = perf_counter()\n",
    "\n",
    "for i in range(0, image_count, 100):\n",
    "    batch_start = perf_counter()\n",
    "    batch = images[i:i+100]\n",
    "\n",
    "    results = model(images)\n",
    "    print(f'Time elapsed ({len(batch)} images): {perf_counter() - batch_start:.2f}s')\n",
    "\n",
    "    results.print()\n",
    "    results.save()\n",
    "\n",
    "print(f'Total time elapsed ({image_count} images): {perf_counter() - start:.2f}s')"
   ]
  },
  {
   "cell_type": "code",
   "execution_count": null,
   "id": "a3e6b9d6",
   "metadata": {},
   "outputs": [],
   "source": []
  }
 ],
 "metadata": {
  "kernelspec": {
   "display_name": "Python 3",
   "language": "python",
   "name": "python3"
  },
  "language_info": {
   "codemirror_mode": {
    "name": "ipython",
    "version": 3
   },
   "file_extension": ".py",
   "mimetype": "text/x-python",
   "name": "python",
   "nbconvert_exporter": "python",
   "pygments_lexer": "ipython3",
   "version": "3.7.11"
  }
 },
 "nbformat": 4,
 "nbformat_minor": 5
}
