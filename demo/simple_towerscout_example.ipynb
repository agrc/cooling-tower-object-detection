{
 "cells": [
  {
   "cell_type": "markdown",
   "id": "5b689b4a",
   "metadata": {},
   "source": [
    "# Simple TowerScout Example\n",
    "The PyTorch python library must be installed before this notebook can be run.  Visit https://pytorch.org/ for instructions.  For initial testing, we did a simple CPU-only install using this conda command:\n",
    "* `conda install pytorch torchvision torchaudio cpuonly -c pytorch`\n",
    "\n",
    "The YOLOv5 repo will also need to be cloned from GitHub.  Quick start instructions for YOLOv5 can be found here: https://github.com/ultralytics/yolov5\n",
    "* `git clone https://github.com/ultralytics/yolov5`\n",
    "\n",
    "The sample images should already be prepared in the appropriate tile size for processing by TowerScout (UGRC used 512x512 tiles)."
   ]
  },
  {
   "cell_type": "code",
   "execution_count": 4,
   "id": "41832390",
   "metadata": {},
   "outputs": [],
   "source": [
    "# Import python libraries\n",
    "\n",
    "import torch\n",
    "import os\n",
    "from os import listdir\n",
    "from os.path import isfile, join\n",
    "import time\n"
   ]
  },
  {
   "cell_type": "markdown",
   "id": "dc29ea84",
   "metadata": {},
   "source": [
    "### Load TowerScout"
   ]
  },
  {
   "cell_type": "code",
   "execution_count": 7,
   "id": "ce3a873f",
   "metadata": {},
   "outputs": [
    {
     "name": "stderr",
     "output_type": "stream",
     "text": [
      "YOLOv5  v6.1-142-g918d7b2 torch 1.10.2 CPU\n",
      "\n",
      "Fusing layers... \n",
      "Model summary: 476 layers, 87198694 parameters, 0 gradients\n",
      "Adding AutoShape... \n"
     ]
    }
   ],
   "source": [
    "# Set up path to the yolov5 directory and local repo\n",
    "yolo_path = r'C:\\Users\\eneemann\\Desktop\\Neemann\\cooling_towers\\yolov5'\n",
    "\n",
    "# Set up path to model weights file and load the TowerScout model\n",
    "model_path = r'C:\\Users\\eneemann\\Desktop\\Neemann\\cooling_towers\\xl_250_best.pt'\n",
    "model = torch.hub.load(yolo_path, 'custom', path=model_path, source='local')  # load from local repo\n",
    "\n",
    "# Set location of image tiles and cd into that directory\n",
    "tile_folder = r'C:\\Users\\eneemann\\Desktop\\Python Code\\TESTING\\images\\pre_detects'\n",
    "os.chdir(tile_folder)\n",
    "\n",
    "# Build list of images in tile directory\n",
    "imgs = [f for f in listdir(tile_folder) if isfile(join(tile_folder, f))]"
   ]
  },
  {
   "cell_type": "markdown",
   "id": "677dcbb3",
   "metadata": {},
   "source": [
    "### Run TowerScout\n",
    "If more than 100 images are in the tile directory, you may need to break the images into batches of 100 images to avoid a memory allocation error.  Results will be saved in the `\\runs\\detect\\exp` directory."
   ]
  },
  {
   "cell_type": "code",
   "execution_count": 8,
   "id": "ff71f823",
   "metadata": {
    "scrolled": true
   },
   "outputs": [
    {
     "name": "stderr",
     "output_type": "stream",
     "text": [
      "image 1/19: 512x512 (no detections)\n",
      "image 2/19: 512x512 1 ct\n",
      "image 3/19: 512x512 3 cts\n",
      "image 4/19: 512x512 2 cts\n",
      "image 5/19: 512x512 1 ct\n",
      "image 6/19: 512x512 4 cts\n",
      "image 7/19: 512x512 5 cts\n",
      "image 8/19: 512x512 1 ct\n",
      "image 9/19: 512x512 1 ct\n",
      "image 10/19: 512x512 1 ct\n",
      "image 11/19: 512x512 1 ct\n",
      "image 12/19: 512x512 1 ct\n",
      "image 13/19: 512x512 3 cts\n",
      "image 14/19: 512x512 1 ct\n",
      "image 15/19: 512x512 1 ct\n",
      "image 16/19: 512x512 2 cts\n",
      "image 17/19: 512x512 1 ct\n",
      "image 18/19: 512x512 2 cts\n",
      "image 19/19: 512x512 1 ct\n",
      "Speed: 17.2ms pre-process, 3750.6ms inference, 3.1ms NMS per image at shape (19, 3, 640, 640)\n"
     ]
    },
    {
     "name": "stdout",
     "output_type": "stream",
     "text": [
      "Time elapsed (19 images): 71.67s\n"
     ]
    },
    {
     "name": "stderr",
     "output_type": "stream",
     "text": [
      "Saved 19 images to \u001b[1mruns\\detect\\exp6\u001b[0m\n"
     ]
    }
   ],
   "source": [
    "# If more than 100 images, break into batches of 100, run 1 batch at a time\n",
    "batch_1 = imgs[:100]\n",
    "batch_2 = imgs[100:200]\n",
    "batch_3 = imgs[200:]\n",
    "\n",
    "start = time.time()\n",
    "results = model(imgs)\n",
    "# results = model(batch_1)   # if using batches, use this line to run on the first batch\n",
    "print(f\"Time elapsed ({len(imgs)} images): {time.time() - start:.2f}s\")\n",
    "\n",
    "# Print results\n",
    "results.print()\n",
    "\n",
    "# Save detection images\n",
    "results.save()"
   ]
  },
  {
   "cell_type": "code",
   "execution_count": null,
   "id": "d4f1851e",
   "metadata": {},
   "outputs": [],
   "source": []
  }
 ],
 "metadata": {
  "kernelspec": {
   "display_name": "Python 3",
   "language": "python",
   "name": "python3"
  },
  "language_info": {
   "codemirror_mode": {
    "name": "ipython",
    "version": 3
   },
   "file_extension": ".py",
   "mimetype": "text/x-python",
   "name": "python",
   "nbconvert_exporter": "python",
   "pygments_lexer": "ipython3",
   "version": "3.7.11"
  }
 },
 "nbformat": 4,
 "nbformat_minor": 5
}
